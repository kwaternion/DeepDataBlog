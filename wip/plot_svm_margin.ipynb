{
 "cells": [
  {
   "cell_type": "code",
   "execution_count": 1,
   "metadata": {
    "ExecuteTime": {
     "end_time": "2018-12-05T19:43:40.691620Z",
     "start_time": "2018-12-05T20:43:38.175242+01:00"
    }
   },
   "outputs": [],
   "source": [
    "%matplotlib inline"
   ]
  },
  {
   "cell_type": "markdown",
   "metadata": {},
   "source": [
    "\n",
    "# SVM Margins Example\n",
    "\n",
    "The plots below illustrate the effect the parameter `C` has\n",
    "on the separation line. A large value of `C` basically tells\n",
    "our model that we do not have that much faith in our data's\n",
    "distribution, and will only consider points close to line\n",
    "of separation.\n",
    "\n",
    "A small value of `C` includes more/all the observations, allowing\n",
    "the margins to be calculated using all the data in the area.\n",
    "\n",
    "\n"
   ]
  },
  {
   "cell_type": "code",
   "execution_count": 2,
   "metadata": {
    "ExecuteTime": {
     "end_time": "2018-12-05T19:43:43.991397Z",
     "start_time": "2018-12-05T20:43:40.711601+01:00"
    }
   },
   "outputs": [],
   "source": [
    "import numpy as np\n",
    "import matplotlib.pyplot as plt\n",
    "from matplotlib.lines import Line2D\n",
    "from sklearn import svm\n",
    "from ipywidgets import interact"
   ]
  },
  {
   "cell_type": "code",
   "execution_count": 33,
   "metadata": {
    "ExecuteTime": {
     "end_time": "2018-12-05T19:52:54.189777Z",
     "start_time": "2018-12-05T20:52:53.929790+01:00"
    }
   },
   "outputs": [],
   "source": [
    "np.random.seed(1)\n",
    "n_points = 4\n",
    "separation = 2\n",
    "X = np.r_[np.random.randn(n_points, 2) + [separation, 0], np.random.randn(n_points, 2) + [-separation, 0]]\n",
    "Y = [0] * n_points + [1] * n_points\n",
    "def svm_penalty(penalty = 0.6):\n",
    "    clf = svm.SVC(kernel='linear', C=penalty, gamma = 10)\n",
    "    clf.fit(X, Y)\n",
    "\n",
    "    # get the separating hyperplane\n",
    "    w = clf.coef_[0]\n",
    "    a = -w[0] / w[1]\n",
    "    xx = np.linspace(-5, 5)\n",
    "    b = -(clf.intercept_[0]) / w[1]\n",
    "    yy = a * xx + b\n",
    "    colr = ['b', 'r']\n",
    "\n",
    "    margin = 1 / np.sqrt(np.sum(clf.coef_ ** 2))\n",
    "    yy_down = yy - np.sqrt(1 + a ** 2) * margin\n",
    "    yy_up = yy + np.sqrt(1 + a ** 2) * margin\n",
    "\n",
    "    # plot the line, the points, and the nearest vectors to the plane\n",
    "    plt.figure(0, figsize=(6, 6))\n",
    "    plt.clf()\n",
    "    plt.plot(xx, yy, 'k-')\n",
    "    plt.plot(xx, yy_down, 'k--')\n",
    "    plt.plot(xx, yy_up, 'k--')\n",
    "\n",
    "    plt.scatter(X[:, 0], X[:, 1], c = [colr[i] for i in Y], zorder=10, s=50, cmap=plt.cm.Paired, edgecolors='k')\n",
    "    xy_bounded = []\n",
    "    xy_free = []\n",
    "    for i, (xs, ys) in enumerate(clf.support_vectors_):\n",
    "        plt.annotate(\"{:.2f}\".format(clf.dual_coef_[0][i]), xy=(xs, ys), xytext=(5,10), textcoords='offset points')\n",
    "        if abs(clf.dual_coef_[0,i]) == penalty:\n",
    "            xy_bounded.append((xs, ys, Y[clf.support_[i]]))\n",
    "        else:\n",
    "            xy_free.append((xs, ys, Y[clf.support_[i]]))          \n",
    "            \n",
    "    if xy_bounded: plt.scatter(list(zip(*xy_bounded))[0], list(zip(*xy_bounded))[1], c = 'yellow',\n",
    "                               cmap=plt.cm.Paired, s=300, zorder=9, edgecolors='k')       \n",
    "    if xy_free: plt.scatter(list(zip(*xy_free))[0], list(zip(*xy_free))[1], c = 'orange',\n",
    "                               cmap=plt.cm.Paired, s=200, zorder=9, edgecolors='k')\n",
    "    \n",
    "    scale_range = 4\n",
    "    x_min = y_min = - scale_range\n",
    "    x_max = y_max = scale_range\n",
    "\n",
    "    XX, YY = np.mgrid[x_min:x_max:200j, y_min:y_max:200j]\n",
    "    Z = clf.predict(np.c_[XX.ravel(), YY.ravel()])\n",
    "\n",
    "    Z = Z.reshape(XX.shape)\n",
    "    plt.pcolormesh(XX, YY, Z, cmap=plt.cm.Paired)\n",
    "\n",
    "    plt.xlim(x_min, x_max)\n",
    "    plt.ylim(y_min, y_max)\n",
    "    line1 = plt.Line2D([0], [0], ls ='solid', color='k', label='Separation Plane')\n",
    "    line2 = plt.Line2D([0], [0], ls ='dashed', color='k', label='Margin')\n",
    "    line3 = plt.Line2D([0], [0], marker='o', markersize=15, markeredgecolor='k', \n",
    "                       color='yellow', linestyle = 'None', label='Bounded Support Vec.')\n",
    "    line4 = plt.Line2D([0], [0], marker='o', markersize=12, markeredgecolor='k', \n",
    "                       color='orange', linestyle = 'None', label='Free Support Vec.')\n",
    "    plt.legend(handles = [line1,line2,line3,line4], loc=1)\n",
    "    plt.show()\n",
    "#     print(margin)\n",
    "#     print(clf.n_support_)\n",
    "#     print(clf.coef_)\n",
    "#     print(clf.dual_coef_)\n",
    "#     return clf\n",
    "#     print(clf.dual_coef_.sum())\n",
    "#     print(a)\n",
    "#     print(b)"
   ]
  },
  {
   "cell_type": "code",
   "execution_count": 35,
   "metadata": {
    "ExecuteTime": {
     "end_time": "2018-12-05T19:54:28.957372Z",
     "start_time": "2018-12-05T20:54:28.447421+01:00"
    }
   },
   "outputs": [
    {
     "data": {
      "image/png": "[encoded data removed]",
      "text/plain": [
       "<matplotlib.figure.Figure at 0x1cb386e14e0>"
      ]
     },
     "metadata": {},
     "output_type": "display_data"
    }
   ],
   "source": [
    "interact(svm_penalty, penalty=(0.01,100000,0.01));"
   ]
  },
  {
   "cell_type": "code",
   "execution_count": 540,
   "metadata": {
    "ExecuteTime": {
     "end_time": "2018-12-04T23:33:27.846090Z",
     "start_time": "2018-12-05T00:33:27.636102+01:00"
    }
   },
   "outputs": [],
   "source": [
    "np.random.seed(1)\n",
    "n_points = 20\n",
    "separation = 1\n",
    "X = np.r_[np.random.randn(n_points, 2) + [separation, 0], np.random.randn(n_points, 2) + [-separation, 0]]\n",
    "Y = [0] * n_points + [1] * n_points\n",
    "\n",
    "def svm_rbf(penalty = 0.6, gamma = 10):\n",
    "    clf = svm.SVC(kernel='rbf', C=penalty, gamma = gamma)\n",
    "    clf.fit(X, Y)\n",
    "    # plot the parallels to the separating hyperplane that pass through the\n",
    "    # support vectors (margin away from hyperplane in direction\n",
    "    # perpendicular to hyperplane). This is sqrt(1+a^2) away vertically in\n",
    "    # 2-d.\n",
    "\n",
    "    # plot the line, the points, and the nearest vectors to the plane\n",
    "    plt.figure(0, figsize=(6, 6))\n",
    "    plt.clf()\n",
    "\n",
    "    xy_bounded = []\n",
    "    xy_free = []\n",
    "    for i, (xs, ys) in enumerate(clf.support_vectors_):\n",
    "        if abs(clf.dual_coef_[0,i]) == penalty:\n",
    "            xy_bounded.append((xs, ys, Y[clf.support_[i]]))\n",
    "        else:\n",
    "            xy_free.append((xs, ys, Y[clf.support_[i]]))          \n",
    "            \n",
    "    if xy_bounded: plt.scatter(list(zip(*xy_bounded))[0], list(zip(*xy_bounded))[1], c = 'yellow',\n",
    "                               cmap=plt.cm.Paired, s=300, zorder=9, edgecolors='k')       \n",
    "    if xy_free: plt.scatter(list(zip(*xy_free))[0], list(zip(*xy_free))[1], c = 'orange',\n",
    "                               cmap=plt.cm.Paired, s=200, zorder=9, edgecolors='k')\n",
    "    \n",
    "    plt.scatter(X[:, 0], X[:, 1], c=Y, zorder=10, cmap=plt.cm.Paired, edgecolors='k')\n",
    "\n",
    "    x_min = y_min = -5\n",
    "    x_max = y_max = 5\n",
    "\n",
    "    XX, YY = np.mgrid[x_min:x_max:200j, y_min:y_max:200j]\n",
    "    Z = clf.predict(np.c_[XX.ravel(), YY.ravel()])\n",
    "\n",
    "    # Put the result into a color plot\n",
    "    Z = Z.reshape(XX.shape)\n",
    "    plt.pcolormesh(XX, YY, Z, cmap=plt.cm.Paired)\n",
    "\n",
    "    plt.xlim(x_min, x_max)\n",
    "    plt.ylim(y_min, y_max)\n",
    "    plt.show()\n",
    "    print(clf.n_support_)\n",
    "    print(clf.dual_coef_)\n",
    "    print(clf.dual_coef_.sum())"
   ]
  },
  {
   "cell_type": "code",
   "execution_count": 543,
   "metadata": {
    "ExecuteTime": {
     "end_time": "2018-12-04T23:34:19.418317Z",
     "start_time": "2018-12-05T00:34:18.778354+01:00"
    }
   },
   "outputs": [
    {
     "data": {
      "image/png": "[encoded data removed]",
      "text/plain": [
       "<matplotlib.figure.Figure at 0x264bf836b00>"
      ]
     },
     "metadata": {},
     "output_type": "display_data"
    },
    {
     "name": "stdout",
     "output_type": "stream",
     "text": [
      "[6 5]\n",
      "[[ -3.83917629 -10.          -8.71712549  -4.99278354 -10.         -10.\n",
      "   10.          10.          10.           7.54908532  10.        ]]\n",
      "-7.1054273576e-15\n"
     ]
    }
   ],
   "source": [
    "interact(svm_rbf, penalty=(0.01,10,0.1), gamma=(.1,10,.1))"
   ]
  },
  {
   "cell_type": "code",
   "execution_count": null,
   "metadata": {},
   "outputs": [],
   "source": []
  },
  {
   "cell_type": "code",
   "execution_count": null,
   "metadata": {},
   "outputs": [],
   "source": []
  },
  {
   "cell_type": "code",
   "execution_count": null,
   "metadata": {},
   "outputs": [],
   "source": []
  },
  {
   "cell_type": "code",
   "execution_count": null,
   "metadata": {},
   "outputs": [],
   "source": []
  },
  {
   "cell_type": "code",
   "execution_count": null,
   "metadata": {},
   "outputs": [],
   "source": []
  },
  {
   "cell_type": "code",
   "execution_count": null,
   "metadata": {},
   "outputs": [],
   "source": []
  },
  {
   "cell_type": "code",
   "execution_count": null,
   "metadata": {},
   "outputs": [],
   "source": []
  }
 ],
 "metadata": {
  "kernelspec": {
   "display_name": "Python 3",
   "language": "python",
   "name": "python3"
  },
  "language_info": {
   "codemirror_mode": {
    "name": "ipython",
    "version": 3
   },
   "file_extension": ".py",
   "mimetype": "text/x-python",
   "name": "python",
   "nbconvert_exporter": "python",
   "pygments_lexer": "ipython3",
   "version": "3.5.2"
  },
  "varInspector": {
   "cols": {
    "lenName": 16,
    "lenType": 16,
    "lenVar": 40
   },
   "kernels_config": {
    "python": {
     "delete_cmd_postfix": "",
     "delete_cmd_prefix": "del ",
     "library": "var_list.py",
     "varRefreshCmd": "print(var_dic_list())"
    },
    "r": {
     "delete_cmd_postfix": ") ",
     "delete_cmd_prefix": "rm(",
     "library": "var_list.r",
     "varRefreshCmd": "cat(var_dic_list()) "
    }
   },
   "types_to_exclude": [
    "module",
    "function",
    "builtin_function_or_method",
    "instance",
    "_Feature"
   ],
   "window_display": false
  },
  "widgets": {
   "state": {
    "19ee0a892080416e95e48b1c00652bdb": {
     "views": [
      {
       "cell_index": 4
      }
     ]
    }
   },
   "version": "1.2.0"
  }
 },
 "nbformat": 4,
 "nbformat_minor": 1
}
