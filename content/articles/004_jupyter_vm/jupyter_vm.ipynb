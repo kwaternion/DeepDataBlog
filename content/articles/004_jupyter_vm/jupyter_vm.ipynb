{
 "cells": [
  {
   "cell_type": "markdown",
   "metadata": {},
   "source": [
    "##  Related articles\n",
    "+ [Create your own VM on Google Cloud Platform](/vm_on_gpc.html)\n",
    "+ [Connect to remote desktop on VM over VNC](/vm_over_vnc.html)\n",
    "+ [Accessing jupyter running on VM](/jupyter_on_vm.html)\n",
    "\n",
    "In this article i will show how to create access to jupyter notebook (running on remote computer) form your local computer.\n",
    "Whenever on your remote computer you run jupyter with command:\n",
    "```python\n",
    "jupyter notebook\n",
    "```\n",
    "it will starts its own server, and through it it will serve a pages, typically under the address: http://localhost:8888  under which it can be either viewed or edited through a browser.\n",
    "\n",
    "In one of my [previous post](/vm_over_vnc.html) i described a mean how to make a VNC connection to remote computer. But often there is no such possibility or it would be just more convenient or faster to access remote jupyter sever through your local browser. In this article I will show how to establish such connection.\n",
    "\n",
    "First in command line of your remote computer make sure that you have jupyter notebook installed and that it is working properly:\n",
    "```shell\n",
    "ptwnuk@instance04:~$ jupyter notebook\n",
    "[I 13:39:33.961 NotebookApp] [nb_conda_kernels] enabled, 0 kernels found\n",
    "[I 13:39:33.967 NotebookApp] Writing notebook server cookie secret to /run/user/1001/jupyter/notebook_cookie_secret\n",
    "[I 13:39:34.209 NotebookApp] JupyterLab extension loaded from /opt/anaconda3/lib/python3.7/site-packages/jupyterlab\n",
    "[I 13:39:34.209 NotebookApp] JupyterLab application directory is /opt/anaconda3/share/jupyter/lab\n",
    "[I 13:39:34.363 NotebookApp] [nb_conda] enabled\n",
    "[I 13:39:34.405 NotebookApp] ✓ nbpresent HTML export ENABLED\n",
    "[W 13:39:34.405 NotebookApp] ✗ nbpresent PDF export DISABLED: No module named 'nbbrowserpdf'\n",
    "[I 13:39:34.406 NotebookApp] Serving notebooks from local directory: /home/ptwnuk\n",
    "[I 13:39:34.406 NotebookApp] The Jupyter Notebook is running at:\n",
    "[I 13:39:34.406 NotebookApp] http://localhost:8888/?token=724c3c931cb0d68f46e24739c11d8bae0114a9c50ea3e5b3\n",
    "[I 13:39:34.406 NotebookApp] Use Control-C to stop this server and shut down all kernels (twice to skip confirmatio\n",
    "n).\n",
    "[W 13:39:34.409 NotebookApp] No web browser found: could not locate runnable browser.\n",
    "[C 13:39:34.410 NotebookApp] \n",
    "    \n",
    "    Copy/paste this URL into your browser when you connect for the first time,\n",
    "    to login with a token:\n",
    "        http://localhost:8888/?token=724c3c931cb0d68f46e24739c11d8bae0114a9c50ea3e5b3\n",
    "```\n",
    "\n",
    "Now we need to change some default settings of the jupyter server. First we need to make sure we have a file jupyter_notebook_config.py created, which contains the default settings for jupyter server.\n",
    "You can check that by executing:\n",
    "```python\n",
    "ls ~/.jupyter/jupyter_notebook_config.py\n",
    "```\n",
    "if you see the file, it means that you have configuration file created if not (there is error of no such file) you need  to create it by running the following command:\n",
    "```python\n",
    "jupyter notebook --generate-config\n",
    "```\n",
    "\n",
    "Now we need to modify jupyter default settings, by editing jupyter_notebook_config.py file by running:\n",
    " \n",
    "```python\n",
    "nano ~/.jupyter/jupyter_notebook_config.py\n",
    "```"
   ]
  },
  {
   "cell_type": "markdown",
   "metadata": {},
   "source": [
    "Inside that file the following lines should be added:\n",
    "```shell\n",
    "c = get_config()\n",
    "c.NotebookApp.ip = '*' #Set the kernel’s IP address [default localhost]. \n",
    "#If the IP address is something other than localhost, \n",
    "#then Consoles on other machines will be able to connect to the Kernel\n",
    "c.NotebookApp.port = 7000 #sets the port to 7000, to avoid conflicts with locally running jupyter\n",
    "#c.NotebookApp.open_browser : False  Uncomment if you wish not to open remote browser for jupyter\n",
    "```"
   ]
  },
  {
   "cell_type": "markdown",
   "metadata": {
    "ExecuteTime": {
     "end_time": "2018-11-12T14:41:43.558649Z",
     "start_time": "2018-11-12T15:41:43.551162+01:00"
    }
   },
   "source": [
    "Now you can run your server one more time, with the following parameters:\n",
    "```python\n",
    "jupyter-notebook --no-browser --port=7000\n",
    "```\n",
    "After that jupyter server is serving pages on 7000 port. \n",
    "In order to access jupyter notebook form remote computer you need to replace beginning of the address of server adress i.e *localhost* into IP of your remote computer. You can find IP of your machine in the GCP administrative console:\n",
    "<img class=\"img-center\" src=\"../../images/jupyter_vm/jupyter02.png\" style=\"width: 400px\"/>\n",
    "Unfortunately, even now you would still not be able to access jupyter notebook. The reason is that by default all ports (except 22) are blocked by Google Cloud settings. So we need to open port 7000 for the TCP protocols. In order to open this port we need to make a new custom firewall rule. You can do it by opening GCP main menu and then **Networking** and **Firewall rulles**:\n",
    "<img class=\"img-center\" src=\"../../images/jupyter_vm/fire01.png\" style=\"width: 400px\"/>\n",
    "\n",
    "Here you can create a new firewall rule (port 7000, TCP, all instances in network, source IP: 0.0.0.0/0), it should look similar to the image below, and then create button.\n",
    "<img class=\"img-center\" src=\"../../images/jupyter_vm/fire02.png\" style=\"width: 400px\"/>\n",
    "\n",
    "After applying the firewall rule, you can one more time copy address provided by the jupyter server, replace localhost address by the external IP of your virtual computer and paste that address into your browser:\n",
    "<img class=\"img-center\" src=\"../../images/jupyter_vm/jupyter03.png\" style=\"width: 400px\"/>"
   ]
  },
  {
   "cell_type": "markdown",
   "metadata": {},
   "source": [
    "# Hints \n",
    "### Static IP\n",
    "It is quite tedious to every time check IP address of your virtual machine. Especially each time you are starting a machine you usually get different external IP. In oder to avoid that complication you can reserve a static IP which can then be assign to any of your instances. You can get static IP in **Menu/VPC Networ/External IP address**. There you can click \"Reserve static IP\", which could be then attached to your instance. \n",
    "\n",
    "Just as a word of warning: if there is an static IP reserved which is not used (not assigned to any instances) you will be charged for it (0.01$ per hour). But any assigned IP to instances are free of charge, regardless if the instance is running or stopped. You can check status of your IP addresses if they are in use by running the following command **gcloud compute addresses list** in  Google Cloud Platform console (command icon in top right corner of console).\n",
    "\n",
    "### Easy logging to jupyter (without key)\n",
    "The other inconvenience occurring with default configuration is that each time you start jupyter server you need to manually copy address from the console and moreover you need to change the beginning of the address from 127.0.0.1 to your external IP address. Those problems could be easily solved by modifying logging method from key to password. \n",
    "To change the logging method, after running server (jupyter-notebook --no-browser --port=7000) in your browser you need to access jupyter notebook **but without the key**, like: http://35.204.55.33:7000. Then you will see a welcome page, with a section: Setup a Password (like in the image below).\n",
    "<img class=\"img-center\" src=\"../../images/jupyter_vm/jupyter04.png\" style=\"width: 400px\"/>\n",
    "There in the box Token paste a key (letters and numbers), which were provided during starting jupyter server.\n",
    "Additionally provide your own password in the \"New Password\" box and then click: Log in and set new password.\n",
    "This way you will establish your own password, which will have to be provided each time you will be logging to jupyter notebook through browser. \n",
    "\n",
    "Since now your IP is static and the address does not require any unique key, you can bookmark your jupyter server address (like: http://35.204.55.33:7000) and then easily access it with just single click. This makes a work flow with remote jupyter notebook much smoother and enjoyable."
   ]
  }
 ],
 "metadata": {
  "kernelspec": {
   "display_name": "Python 3",
   "language": "python",
   "name": "python3"
  },
  "language_info": {
   "codemirror_mode": {
    "name": "ipython",
    "version": 3
   },
   "file_extension": ".py",
   "mimetype": "text/x-python",
   "name": "python",
   "nbconvert_exporter": "python",
   "pygments_lexer": "ipython3",
   "version": "3.5.2"
  },
  "varInspector": {
   "cols": {
    "lenName": 16,
    "lenType": 16,
    "lenVar": 40
   },
   "kernels_config": {
    "python": {
     "delete_cmd_postfix": "",
     "delete_cmd_prefix": "del ",
     "library": "var_list.py",
     "varRefreshCmd": "print(var_dic_list())"
    },
    "r": {
     "delete_cmd_postfix": ") ",
     "delete_cmd_prefix": "rm(",
     "library": "var_list.r",
     "varRefreshCmd": "cat(var_dic_list()) "
    }
   },
   "types_to_exclude": [
    "module",
    "function",
    "builtin_function_or_method",
    "instance",
    "_Feature"
   ],
   "window_display": false
  }
 },
 "nbformat": 4,
 "nbformat_minor": 2
}
