{
 "cells": [
  {
   "cell_type": "markdown",
   "metadata": {},
   "source": [
    "Here I would like to describe how to achieve copy paste capability for VNC connection.\n",
    "With such capability working between two computers and sharing clipboard would became much more enjoyable.\n",
    "\n",
    "My configuration is as follows:\n",
    "* Local computer: Windows 10, VNC viewer 6\n",
    "* Remote computer: VM on GCP, Debian 9, VNC server: tigerVNC\n",
    "\n",
    "Here I assume that there is already working VNC connection between local and remote computer. In my previous post you can read how to establish such connection [here](/vnc_on_virtual_machine.html).\n",
    "\n",
    "First make sure than copy-past option is switched on on your local VNC viewer (File/Preferences/Privacy/ Allow copy and paste to and from VNC server).\n",
    "\n",
    "Then, you must turn off vncserver. This can be done by executing following code:\n",
    "```python\n",
    "vncserver -kill :*\n",
    "or vncserver -kill :<number of your desktop>\n",
    "```\n",
    "Now open terminal, and download *autocutset* package:\n",
    "```python\n",
    "sudo apt install autocutsel\n",
    "```\n",
    "\n",
    "Then we need to edit our VNC startup script.\n",
    "With your favorite text editor edit file  \"/home/ptwnuk/.vnc/xstartup\":\n",
    "```python  \n",
    "nano /home/ptwnuk/.vnc/xstartup\n",
    "```\n",
    "Change it accordingly:\n",
    "```python  \n",
    "#!/bin/sh\n",
    "\n",
    "# Uncomment the following two lines for normal desktop:\n",
    "# unset SESSION_MANAGER\n",
    "# exec /etc/X11/xinit/xinitrc\n",
    "\n",
    "[ -x /etc/vnc/xstartup ] && exec /etc/vnc/xstartup\n",
    "[ -r $HOME/.Xresources ] && xrdb $HOME/.Xresources\n",
    "#xsetroot -solid grey\n",
    "autocutsel -fork  \n",
    "vncconfig -iconic &\n",
    "vncconfig -nowin &\n",
    "x-terminal-emulator -geometry 80x24+10+10 -ls -title \"$VNCDESKTOP Desktop\" &\n",
    "x-window-manager &\n",
    "startxfce4 &\n",
    "#gnome-panel &\n",
    "#gnome-settings-daemon &\n",
    "#metacity &\n",
    "#nautilus &\n",
    "\n",
    "```\n",
    "Now you can start VNC server one more time:\n",
    "```python \n",
    "vncserver\n",
    "```\n",
    "\n",
    "This way you should have both way copy paste capabilities between your local and remote machine."
   ]
  }
 ],
 "metadata": {
  "kernelspec": {
   "display_name": "Python 3",
   "language": "python",
   "name": "python3"
  },
  "language_info": {
   "codemirror_mode": {
    "name": "ipython",
    "version": 3
   },
   "file_extension": ".py",
   "mimetype": "text/x-python",
   "name": "python",
   "nbconvert_exporter": "python",
   "pygments_lexer": "ipython3",
   "version": "3.5.2"
  },
  "varInspector": {
   "cols": {
    "lenName": 16,
    "lenType": 16,
    "lenVar": 40
   },
   "kernels_config": {
    "python": {
     "delete_cmd_postfix": "",
     "delete_cmd_prefix": "del ",
     "library": "var_list.py",
     "varRefreshCmd": "print(var_dic_list())"
    },
    "r": {
     "delete_cmd_postfix": ") ",
     "delete_cmd_prefix": "rm(",
     "library": "var_list.r",
     "varRefreshCmd": "cat(var_dic_list()) "
    }
   },
   "types_to_exclude": [
    "module",
    "function",
    "builtin_function_or_method",
    "instance",
    "_Feature"
   ],
   "window_display": false
  }
 },
 "nbformat": 4,
 "nbformat_minor": 2
}
