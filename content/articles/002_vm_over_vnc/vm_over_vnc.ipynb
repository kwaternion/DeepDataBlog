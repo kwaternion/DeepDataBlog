{
 "cells": [
  {
   "cell_type": "markdown",
   "metadata": {
    "ExecuteTime": {
     "end_time": "2018-11-10T16:48:32.718721Z",
     "start_time": "2018-11-10T17:48:32.668729+01:00"
    }
   },
   "source": [
    "##  Related articles\n",
    "+ [Create your own VM on Google Cloud Platform](/vm_on_gpc.html)\n",
    "+ [Copy paste over VNC](/copy_paste_over_vnc.html)\n",
    "+ [Accessing jupyter running on VM](/jupyter_on_vm.html)\n",
    "\n",
    "# Connection to the desktop of cloud VM over VNC\n",
    "\n",
    "By default, the most convenient way of accessing your VM is through web based SSH connection provided by GCP, all you need to do is just click on **SHH** name by your instance. \n",
    "Then new window will open, and after some time you will see prompt line of your instance:\n",
    "<img class=\"img-center\" src=\"../../images/vnc/prompt01.PNG\" alt=\"prompt01\" style=\"width: 400px\"/>\n",
    "You can wander if your instance is not protected since you did not provide any password - actually it is secured quite well, and login was done over SSH channel utilizing embedded SSH-RSA key. \n",
    "\n",
    "In previous [article](/vm_on_gpc.html) I also described a way to access your VM using *putty* .\n",
    "\n",
    "Ok, in order to have fully functional VM, which would give you a feeling of real computer (only remote) we need remote access to its GUI interface (desktop). Here I will describe how to access your VM using popular VNC client.\n",
    "\n",
    "Unfortunately, it is not so straight forward, since there is some packages that needs to be installed, and some configurations has to be created, but hopefully using this manual it will be a bit easier."
   ]
  },
  {
   "cell_type": "markdown",
   "metadata": {},
   "source": [
    "## VNC server installation on VM\n",
    "\n",
    "I was inspired by other [article](https://www.digitalocean.com/community/tutorials/how-to-install-and-configure-vnc-on-debian-9) describing VNC connection on Debian systems.\n",
    "\n",
    "Here I am assuming that you have VM created as in the [article](/vm_on_gpc.html) I described before.\n",
    "\n",
    "First, in the SSH console please input following commands, in order to install Xfce desktop environment on our VM:\n",
    "\n",
    "```python\n",
    "sudo apt update\n",
    "sudo apt install xfce4 xfce4-goodies\n",
    "```\n",
    "During installation select English, then Enter key.\n",
    "\n",
    "In case of problem during installation, try:\n",
    "```python\n",
    "ps aux | grep -i apt\n",
    "sudo kill <process id> or\n",
    "sudo dpkg --configure -a\n",
    "```\n",
    "\n",
    "After successful installation of Xfce desktop, it is time to install VNC server:\n",
    "\n",
    "```python\n",
    "sudo apt install vnc4server\n",
    "```\n",
    "\n",
    "After installation we need to run  *vncserver* in order to finish its settings:\n",
    "```python\n",
    "sudo vncserver\n",
    "```\n",
    "Here you will be asked to provide password for remote VNC service (through VNC viewer on your local computer). Then repeat password, and refuse creation of the password for View only \n",
    "```python\n",
    "ptwnuk@myinstance03:~$ sudo vncserver\n",
    "You will require a password to access your desktops.\n",
    "Password:\n",
    "Verify:\n",
    "Would you like to enter a view-only password (y/n)? n\n",
    "/usr/bin/xauth:  file /root/.Xauthority does not exist\n",
    "New 'myinstance03.europe-west4-a.c.white-collector-222018.internal:1 (root)' desktop at :1 on machine myinstance03.\n",
    "europe-west4-a.c.white-collector-222018.internal\n",
    "Starting applications specified in /etc/X11/Xvnc-session\n",
    "Log file is /root/.vnc/myinstance03.europe-west4-a.c.white-collector-222018.internal:1.log\n",
    "Use xtigervncviewer -SecurityTypes VncAuth -passwd /root/.vnc/passwd :1 to connect to the VNC server.\n",
    "```\n",
    "\n",
    "Now you can check if your VNC server is already running on your VM:\n",
    "You can list VNC sessions using:\n",
    "```python\n",
    "vncserver -list\n",
    "```\n",
    "\n",
    "Now we need to change VNC configuration file, in order to make sure, that whenever VNC is started it should execute Xfce desktop.\n",
    "But before editing file, we must kill VNC process, which stared during our initialization procedure above. For that type the following:\n",
    "\n",
    "```python\n",
    "ptwnuk@myistance:~$ vncserver -kill :1\n",
    "Killing Xtigervnc process ID 18595... success!\n",
    "```\n",
    "\n",
    "If there is already configuration file for VNC server then lets make a copy of it:\n",
    "```python\n",
    "mv ~/.vnc/xstartup ~/.vnc/xstartup.bak\n",
    "nano ~/.vnc/xstartup\n",
    "```\n",
    "Then inside the file past:\n",
    "```python\n",
    "~/.vnc/xstartup\n",
    "#!/bin/bash\n",
    "xrdb $HOME/.Xresources\n",
    "startxfce4 &\n",
    "```\n",
    "Then press Ctrl+X, then confirm saving file.\n",
    "```python\n",
    "sudo chmod +x ~/.vnc/xstartup\n",
    "vncserver\n",
    "```\n",
    "Now your VNC server should be running! The only missing component is connection from our local VNC viewer computer to remote VNC server on VM.\n",
    "\n",
    "For that we will use *putty* connection over SSH, with VNC ports tunneling ([here](/vm_on_gpc.html) you can read how to enable such connection)."
   ]
  },
  {
   "cell_type": "markdown",
   "metadata": {},
   "source": [
    "### VNC port tunnelling\n",
    "\n",
    "First we need to enable port used by VNC to be tunneled over SSH, which can be configured in putty. First close your previous SSH putty connection, and open putty configuration window. Then load your previously saved session, so you can edit it. Proper configuration for port tunneling is shown on image below:\n",
    "<img class=\"img-center\" src=\"../../images/vnc/putty07.PNG\" style=\"width: 400px\"/>\n",
    "then click add button, and one more time save updated session.\n",
    "Now you can open connection one more time to your VM using putty.\n",
    "The last step we need to make is to run vncserver on VM, so in command line just type:\n",
    "```python \n",
    "vncserver```"
   ]
  },
  {
   "cell_type": "markdown",
   "metadata": {},
   "source": [
    "### Connection with VNC Viewer to VM\n",
    "First you need to install VNC viewer, which you can find [here](https://www.realvnc.com/en/connect/download/viewer/).\n",
    "\n",
    "In the VNC Viewer click File/New Connection - where you can specify new connection. In the field VNC server provide: loacalhost:5901 - this address over SSH tunneling should finally reach our remote VNC server. Then add any name for that newly created connection and then click Ok button. \n",
    "Now just double click on new connection - to open VNC connection to your remote computer. Authentication window will appear, where you need to provide a password which you choose during configuration of vncserver on your remote computer. You can also select \"Remember password\" for future connections.\n",
    "\n",
    "If everything was configured properly, you should already see desktop of your remote virtual machine - congratulations!\n",
    "\n",
    "In some cases, colors could look unnatural, this is due to connection speed optimization. If your connection is of high quality and your both machines are fast enough, you can improve your color rendering by modifying connection parameters in the VNC Viewer. Just click with right button on the title top bar of your VNC connection window, and then select Properties. Go to Expert settings, and modify ColorLevel property with the following value \"pal8\" or \"full\" depending on your connection, and then click Ok.\n",
    "<img class=\"img-center\" src=\"../../images/vnc/putty08.PNG\" style=\"width: 400px\"/>\n",
    "\n",
    "After correction of color schema, your desktop should look similar to this:\n",
    "<img class=\"img-center\" src=\"../../images/vnc/putty09.PNG\" style=\"width: 400px\"/>\n",
    "Now you can fully enjoy a reliable connection to your virtual machine desktop :)\n",
    "\n",
    "## Some customization\n",
    "To fully enjoy your remote desktop, you should install some web browser, since in current state no browser is installed. I installed a firefox browser with the following command:\n",
    "\n",
    "```python\n",
    "sudo apt install firefox-esr\n",
    "```\n",
    "\n",
    "The other useful configuration is changing default text editor from emacs into Mousepad, for example.\n",
    "You can do it by creating empty text file (by clicking right button on desktop Create Document/Empty File). Then click right button on that document and then Open With/Open With Other Application and then select Mousepad and additionally check box: Use as a default.\n",
    "\n",
    "In other [article](/copy_paste_over_vnc.html) I describe how to enable copy paste over VNC between remote and local computers."
   ]
  }
 ],
 "metadata": {
  "kernelspec": {
   "display_name": "Python 3",
   "language": "python",
   "name": "python3"
  },
  "language_info": {
   "codemirror_mode": {
    "name": "ipython",
    "version": 3
   },
   "file_extension": ".py",
   "mimetype": "text/x-python",
   "name": "python",
   "nbconvert_exporter": "python",
   "pygments_lexer": "ipython3",
   "version": "3.5.2"
  },
  "varInspector": {
   "cols": {
    "lenName": 16,
    "lenType": 16,
    "lenVar": 40
   },
   "kernels_config": {
    "python": {
     "delete_cmd_postfix": "",
     "delete_cmd_prefix": "del ",
     "library": "var_list.py",
     "varRefreshCmd": "print(var_dic_list())"
    },
    "r": {
     "delete_cmd_postfix": ") ",
     "delete_cmd_prefix": "rm(",
     "library": "var_list.r",
     "varRefreshCmd": "cat(var_dic_list()) "
    }
   },
   "types_to_exclude": [
    "module",
    "function",
    "builtin_function_or_method",
    "instance",
    "_Feature"
   ],
   "window_display": false
  }
 },
 "nbformat": 4,
 "nbformat_minor": 2
}
