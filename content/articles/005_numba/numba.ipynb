{
 "cells": [
  {
   "cell_type": "markdown",
   "metadata": {},
   "source": [
    "## Introduction\n",
    "This post provides a few examples of speed optimizations in python with numba package. I will compare different approaches for performing computations based on vectors and 'for loops'. Here I will mostly compare pure python code against numpy and numba decorator.\n",
    "\n",
    "For more information regarding numba package, please check the following links:\n",
    "\n",
    "* [Speed Up your Algorithms Part 2— Numba](https://towardsdatascience.com/speed-up-your-algorithms-part-2-numba-293e554c5cc1)\n",
    "* [Numba faster than fortran](https://jekel.me/2017/Python-with-Numba-faster-than-fortran/)\n",
    "* [numba vs cython take 2](https://jakevdp.github.io/blog/2013/06/15/numba-vs-cython-take-2/)\n",
    "* [Accelerating python with numba](https://anaconda.org/ijstokes/accelerating-python-with-numba/notebook)\n",
    "* [speed gain and tutorial numpy and numba](http://numba.pydata.org/numba-doc/0.12/tutorial_numpy_and_numba.html)"
   ]
  },
  {
   "cell_type": "markdown",
   "metadata": {},
   "source": [
    "Numba is a library that is used for speeding up computations of python code. It is achieved by compiling selected function to the compiled code, thus increasing speed performance.  \n",
    "Numba has two compilation modes: *nopython=True* mode, which is recommended one and object mode. The former produces much faster code, but will throws error if any of the function or method could not be compiled by numba. Then one can fall back to the latter one, where partial optimization is performed (not recommended).\n",
    "\n",
    "For convenience, among others, numba provides two decorators which can be used for speeding up your code. The first one is **@jit**, the other one is **@njit**. The difference between those two is that **@njit = @jit(nopython=True)**, just for easier use. Thus **@njit** is preferred execution, since it will fore the whole function to be compiled.\n",
    "Usage of the decorator is as simple as follows:\n",
    "\n",
    "```python\n",
    "@njit\n",
    "def foo(x):\n",
    "    b = 0\n",
    "    for i in range(x):\n",
    "        b = b + i  \n",
    "    return b\n",
    "        \n",
    "foo(100)\n",
    "```\n",
    "\n",
    "For Data Scientist, very important factor is, whether numba supports numpy functions. Luckily, out of the box numba supports quite long list of the numpy functions. The complete list of supported functions you can check [numba supported functions](https://numba.pydata.org/numba-doc/dev/reference/numpysupported.html)."
   ]
  },
  {
   "cell_type": "markdown",
   "metadata": {},
   "source": [
    "In the this article, I will show some code examples on which execution speed of differently implemented functions will be compared. Here, I will compare three different codes categories: regular python code, numpy code and those functions boosted by the numba decorator. \n",
    "\n",
    "To be honest, I am aware, that the results presented here are not representative for all tasks and conditions - nevertheless I believe that it is beneficial at least to consider using numba decorator, since it can provide significant speed gain by simply decorating the called function.\n",
    "\n",
    "In the first example we will compare different methods of calculating Mean Squared Error/Difference (MSE). Thus I will calculate difference between two matrices, then differences will be squared and then average value will be returned.  \n",
    "Here the following three approaches will be compared:\n",
    "* pure python\n",
    "* based on numpy functions\n",
    "* as above but with numba complier\n",
    "\n",
    "## Importing libraries"
   ]
  },
  {
   "cell_type": "code",
   "execution_count": 62,
   "metadata": {
    "ExecuteTime": {
     "end_time": "2019-02-06T22:26:58.683001Z",
     "start_time": "2019-02-06T23:26:54.665665+01:00"
    }
   },
   "outputs": [],
   "source": [
    "import numpy as np\n",
    "import pandas as pd\n",
    "import numba\n",
    "from numba import njit, jit, prange\n",
    "import time as time\n",
    "from timeit import default_timer as timer\n",
    "%matplotlib inline"
   ]
  },
  {
   "cell_type": "markdown",
   "metadata": {},
   "source": [
    "## MSE example\n",
    "The first implemented function named \"python_01\" is based on pure python functions and objects, with double for loop, and in each iteration a new value is assigned to the variable \"z\". The second one named \"python_02\" uses inplace substitution for the \"z\" variable for better efficiency."
   ]
  },
  {
   "cell_type": "code",
   "execution_count": 63,
   "metadata": {
    "ExecuteTime": {
     "end_time": "2019-02-06T22:26:58.772624Z",
     "start_time": "2019-02-06T23:26:58.734238+01:00"
    }
   },
   "outputs": [],
   "source": [
    "def python_01(X, Y):\n",
    "    i_list = range(X.shape[0])\n",
    "    j_list = range(X.shape[1])\n",
    "    k = 0\n",
    "    for i in i_list:\n",
    "        z = 0\n",
    "        for j in j_list:\n",
    "            z = z + (X[i,j] - Y[i,j])**2\n",
    "        k = k + z\n",
    "    return k / (X.shape[0] * X.shape[1])\n",
    "\n",
    "def python_02(X, Y):\n",
    "    i_list = range(X.shape[0])\n",
    "    j_list = range(X.shape[1])\n",
    "    k = 0\n",
    "    for i in i_list:\n",
    "        z=0\n",
    "        for j in j_list:\n",
    "            z += (X[i,j] - Y[i,j])**2\n",
    "        k += z\n",
    "    return k / (X.shape[0] * X.shape[1])"
   ]
  },
  {
   "cell_type": "markdown",
   "metadata": {},
   "source": [
    "The two examples below, are the implementations of the MSE based on the numpy package, without any explicit for loops (vectorized calculations). Thus calculation speed should be significantly better as compared to pure python code. The two numpy version differ on how the squared values are calculated, the first one uses python power operator \"**\", while the latter one uses \"numpy.power()\" function."
   ]
  },
  {
   "cell_type": "code",
   "execution_count": 64,
   "metadata": {
    "ExecuteTime": {
     "end_time": "2019-02-06T22:27:00.462832Z",
     "start_time": "2019-02-06T23:27:00.442883+01:00"
    }
   },
   "outputs": [],
   "source": [
    "def numpy_01(X, Y):\n",
    "    dist = (np.power((X - Y), 2)).sum()\n",
    "    return dist / (X.shape[0] * X.shape[1])\n",
    "\n",
    "def numpy_02(X, Y):\n",
    "    dist = ((X - Y)**2).sum()\n",
    "    return dist / (X.shape[0] * X.shape[1])"
   ]
  },
  {
   "cell_type": "markdown",
   "metadata": {},
   "source": [
    "Lastly the examples below are based on the functions defined as above, but additionally they are decorated with **@njit** decorators, which forces the whole function to be converted into compiled code."
   ]
  },
  {
   "cell_type": "code",
   "execution_count": 65,
   "metadata": {
    "ExecuteTime": {
     "end_time": "2019-02-06T22:27:01.482752Z",
     "start_time": "2019-02-06T23:27:01.432763+01:00"
    }
   },
   "outputs": [],
   "source": [
    "@njit\n",
    "def numba_01(X, Y):\n",
    "    i_list = range(X.shape[0])\n",
    "    j_list = range(X.shape[1])\n",
    "    k = 0\n",
    "    for i in i_list:\n",
    "        z = 0\n",
    "        for j in j_list:\n",
    "            z = z + (X[i,j] - Y[i,j])**2\n",
    "        k = k + z\n",
    "    return k / (X.shape[0] * X.shape[1])\n",
    "\n",
    "@njit\n",
    "def numba_02(X, Y):\n",
    "    i_list = range(X.shape[0])\n",
    "    j_list = range(X.shape[1])\n",
    "    k = 0\n",
    "    for i in i_list:\n",
    "        z = 0\n",
    "        for j in j_list:\n",
    "            z += (X[i,j]- Y[i,j])**2\n",
    "        k += z\n",
    "    return k / (X.shape[0] * X.shape[1]) \n",
    "\n",
    "@njit\n",
    "def numba_03(X, Y):\n",
    "    dist = (np.power((X - Y), 2)).sum()\n",
    "    return dist / (X.shape[0] * X.shape[1])\n",
    "\n",
    "@njit\n",
    "def numba_04(X, Y):\n",
    "    dist = ((X - Y)**2).sum()\n",
    "    return dist / (X.shape[0] * X.shape[1])"
   ]
  },
  {
   "cell_type": "markdown",
   "metadata": {},
   "source": [
    "In order to profile execution times of each of the functions above a helper function named \"time_compared\" is provided.\n",
    "\n",
    "In all cases first both random matrices of the size: 1000x1000 will be generated (to exclude data generation from the MSE calculation), and then actual MSE calculation will be time profiled.\n",
    "\n",
    "One important comment: due to the fact, that numba is \"just in time complier\", the code is not compiled until the first execution of the code. Thus when the function decorated with @numba is called for the first time, then the compiler gets into action and then compiles the function. Thus the first execution of such function will be significantly longer as compared to the next calls to this same function.  \n",
    "In order to properly time the execution of the function, in the \"time_compare\" function, there is additional call to the profiled function - which is not timed. It forces the compiler to do its job, and then function can be properly timed on the following calls.  \n",
    "\n",
    "Additional function, called \"plot_speeds\" is used just for the speed visualization purposes."
   ]
  },
  {
   "cell_type": "code",
   "execution_count": 66,
   "metadata": {
    "ExecuteTime": {
     "end_time": "2019-02-06T22:27:02.683119Z",
     "start_time": "2019-02-06T23:27:02.622828+01:00"
    }
   },
   "outputs": [],
   "source": [
    "def time_compare(funcs, rows, cols, n_runs = 5):\n",
    "    funcs_arr = []\n",
    "    times_arr = []\n",
    "    for func in funcs:\n",
    "        time_tot = 0\n",
    "        np.random.seed(0) \n",
    "        X = np.random.rand(rows, cols)\n",
    "        np.random.seed(1) \n",
    "        Y = np.random.rand(rows, cols)\n",
    "        res = func(X,Y) #Initial execution, to force function comilation \n",
    "        for i in range(n_runs):\n",
    "            np.random.seed(i) \n",
    "            start_time = timer()\n",
    "            func(X,Y)\n",
    "            time_tot = time_tot + timer() - start_time\n",
    "        times_arr = np.append(times_arr, time_tot/n_runs)\n",
    "        funcs_arr = np.append(funcs_arr, func.__name__)       \n",
    "    return pd.DataFrame([times_arr.T], columns=funcs_arr).transpose()\n",
    "\n",
    "def plot_speeds(df):\n",
    "    max_time = df.max()[0]\n",
    "    df2 = max_time/df\n",
    "    \n",
    "    from matplotlib import pyplot as plt\n",
    "    ax= df2.plot.bar(figsize=(10,5), legend = False);\n",
    "    ax.set_title(\"Execution time for different functions (longest running time = {:.2f} s)\".format(max_time))\n",
    "    ax.set_yscale(\"log\")\n",
    "    ax.set_ylabel(\"Relative speed\");\n",
    "    ax.set_ylim(.5,df2.max()[0]*2)\n",
    "\n",
    "    x = range(df2.index.size)\n",
    "    y = df2[0].values\n",
    "    for i,j in zip(x,y):\n",
    "        ax.annotate(\"{:.0f}\".format(j),xy=(i - 0.1, j * 1.1))"
   ]
  },
  {
   "cell_type": "code",
   "execution_count": 71,
   "metadata": {
    "ExecuteTime": {
     "end_time": "2019-02-06T22:29:55.933036Z",
     "start_time": "2019-02-06T23:29:41.972897+01:00"
    }
   },
   "outputs": [
    {
     "data": {
      "image/png": "[encoded data removed]",
      "text/plain": [
       "<matplotlib.figure.Figure at 0x2622f755908>"
      ]
     },
     "metadata": {},
     "output_type": "display_data"
    }
   ],
   "source": [
    "profile_MSE = [python_01, python_02, numpy_01, numpy_02, numba_01, numba_02, numba_03, numba_04]\n",
    "speeds_MSE = time_compare(profile_MSE, 100, 10000, n_runs=5)\n",
    "plot_speeds(speeds_MSE)"
   ]
  },
  {
   "cell_type": "markdown",
   "metadata": {},
   "source": [
    "Observing the results provided in the graph above, the following observations can be made:\n",
    "* both pure python versions runs with similar speed\n",
    "* numpy with python square using np.power() function is 15 times faster\n",
    "* numpy with python square using \"**\" power operator is 59 times faster\n",
    "* numba with pure python underlying code (regardless if it uses inplace assignment or not) is around **750** faster!\n",
    "* numba code is **14** times faster as compared to numpy code!\n",
    "* numba with numpy underlying code 100 times faster, still 7 times slower than in previous case!\n",
    "\n",
    "The following conclusion can be made: when using numba decorator, it is advantageous to use pure python code under the hood, most likely it enables the compiler make better optimization. Moreover numba provides almost three orders of magnitude speed-up (**750** times faster) over pure (unvectorized) python code. \n",
    "\n",
    "## Sum of two matrices example\n",
    "In the example below, I will compare simple addition between to matrices, which should be very fast operation. This way it can be more sensitive to the overheads related to specific python objects. In this case I was adding two random matrices of 10x200000 size."
   ]
  },
  {
   "cell_type": "code",
   "execution_count": 72,
   "metadata": {
    "ExecuteTime": {
     "end_time": "2019-02-06T22:31:54.763151Z",
     "start_time": "2019-02-06T23:31:54.722865+01:00"
    }
   },
   "outputs": [],
   "source": [
    "def python_add(X, Y):\n",
    "    i_list = range(X.shape[0])\n",
    "    j_list = range(X.shape[1])\n",
    "    k = 0\n",
    "    for i in i_list:\n",
    "        z=0\n",
    "        for j in j_list:\n",
    "            z += X[i,j] + Y[i,j]\n",
    "        k += z\n",
    "    return k\n",
    "\n",
    "def numpy_add(X, Y):\n",
    "    return (X+Y).sum()\n",
    "\n",
    "@njit\n",
    "def numba_add(X, Y):\n",
    "    i_list = range(X.shape[0])\n",
    "    j_list = range(X.shape[1])\n",
    "    k = 0\n",
    "    for i in i_list:\n",
    "        z = 0\n",
    "        for j in j_list:\n",
    "            z += X[i,j]+ Y[i,j]\n",
    "        k += z\n",
    "    return k"
   ]
  },
  {
   "cell_type": "code",
   "execution_count": 73,
   "metadata": {
    "ExecuteTime": {
     "end_time": "2019-02-06T22:32:01.613073Z",
     "start_time": "2019-02-06T23:31:55.352799+01:00"
    }
   },
   "outputs": [
    {
     "data": {
      "image/png": "[encoded data removed]",
      "text/plain": [
       "<matplotlib.figure.Figure at 0x2622f88bc88>"
      ]
     },
     "metadata": {},
     "output_type": "display_data"
    }
   ],
   "source": [
    "profile_add = [python_add, numpy_add, numba_add]\n",
    "speeds_add = time_compare(profile_add, 10, 200000, n_runs=2)\n",
    "plot_speeds(speeds_add)"
   ]
  },
  {
   "cell_type": "markdown",
   "metadata": {},
   "source": [
    "Similar the case of MSE calculation, numpy provides significant speed-up, on the order of 70 times. But again numba gives much higher speeds-up which is **520**. This is **7** times faster as compared to code based on numpy arrays!\n",
    "\n",
    "## Jaccard similarity example\n",
    "To provide a comparison based on task more related to the Data Science, in the last example jaccard similarity function is calculated (jaccard similarity among columns of the 300x300 matrix). Such similarity function is very often used in classifications algorithms and recommendation systems."
   ]
  },
  {
   "cell_type": "code",
   "execution_count": 74,
   "metadata": {
    "ExecuteTime": {
     "end_time": "2019-02-06T22:34:51.303060Z",
     "start_time": "2019-02-06T23:34:51.273104+01:00"
    }
   },
   "outputs": [],
   "source": [
    "def time_comp_jaccard(funcs, m, n_runs = 5):\n",
    "    funcs_arr = []\n",
    "    times_arr = []\n",
    "    p = 0.95\n",
    "    matrix = np.random.choice([0.0,1.0], size=(m,m), p=[p, 1 - p])\n",
    "\n",
    "    for func in funcs:\n",
    "        time_tot = 0\n",
    "        np.random.seed(0)        \n",
    "        res = func(matrix).sum().sum() #Initial execution, to force function comilation \n",
    "        for i in range(n_runs):\n",
    "            np.random.seed(i) \n",
    "            start_time = timer()\n",
    "            func(matrix)\n",
    "            time_tot = time_tot + timer() - start_time\n",
    "        times_arr = np.append(times_arr, time_tot/n_runs)\n",
    "        funcs_arr = np.append(funcs_arr, func.__name__)\n",
    "    return pd.DataFrame([times_arr.T], columns=funcs_arr).transpose()"
   ]
  },
  {
   "cell_type": "code",
   "execution_count": 75,
   "metadata": {
    "ExecuteTime": {
     "end_time": "2019-02-06T22:34:53.972975Z",
     "start_time": "2019-02-06T23:34:53.854896+01:00"
    }
   },
   "outputs": [],
   "source": [
    "def python_numpy_jaccard(M):\n",
    "    u, i = M.shape\n",
    "    dist = np.zeros((u,u))\n",
    "    for i in range(u):\n",
    "        for j in range(u):\n",
    "            distance = (M[i]*M[j] > 0).sum()\n",
    "            if distance:\n",
    "                dist[i,j] = 1 - distance/((M[i] + M[j] > 0).sum())\n",
    "            else: dist[i,j] = 1\n",
    "    return dist\n",
    "\n",
    "@njit\n",
    "def numba_jaccard(M):\n",
    "    u, i = M.shape\n",
    "    dist = np.zeros((u,u))\n",
    "    for i in range(u):\n",
    "        for j in range(u):\n",
    "            distance = (M[i]*M[j] > 0).sum()\n",
    "            if distance:\n",
    "                dist[i,j] = 1 - distance/((M[i] + M[j] > 0).sum())\n",
    "            else: dist[i,j] = 1\n",
    "    return dist\n",
    "\n",
    "@njit(parallel=True)\n",
    "def numba_parallel_jaccard(M):\n",
    "    #here if first it is run with range, then it is very slow.\n",
    "    #then one range is replaced with prange, then it crashes, and then to range again\n",
    "    #and then it is fastest (3x faster than with prange)\n",
    "    u, i = M.shape\n",
    "    dist = np.zeros((u,u))\n",
    "    for i in range(u):\n",
    "        for j in range(u):\n",
    "            distance = (M[i]*M[j] > 0).sum()\n",
    "            if distance:\n",
    "                dist[i,j] = 1 - distance/((M[i] + M[j] > 0).sum())\n",
    "            else: dist[i,j] = 1\n",
    "    return dist\n",
    "\n",
    "@njit(parallel=True)\n",
    "def numba_parallel_prange_jaccard(M):\n",
    "    #this function at first run returns error, but on the second run it works ok.\n",
    "    u, i = M.shape\n",
    "    dist = np.zeros((u,u))\n",
    "    #this time prange is used instead of range\n",
    "    for i in prange(u):\n",
    "        for j in range(u):\n",
    "            distance = (M[i]*M[j] > 0).sum()\n",
    "            if distance:\n",
    "                dist[i,j] = 1 - distance/((M[i] + M[j] > 0).sum())\n",
    "            else: dist[i,j] = 1\n",
    "    return dist"
   ]
  },
  {
   "cell_type": "code",
   "execution_count": 76,
   "metadata": {
    "ExecuteTime": {
     "end_time": "2019-02-06T22:35:05.683041Z",
     "start_time": "2019-02-06T23:34:58.684200+01:00"
    }
   },
   "outputs": [
    {
     "data": {
      "image/png": "[encoded data removed]",
      "text/plain": [
       "<matplotlib.figure.Figure at 0x2623119d2b0>"
      ]
     },
     "metadata": {},
     "output_type": "display_data"
    }
   ],
   "source": [
    "profile_jaccards = [python_numpy_jaccard, numba_jaccard, numba_parallel_jaccard, numba_parallel_prange_jaccard]\n",
    "speeds_jaccards = time_comp_jaccard(profile_jaccards, 300, n_runs=2)\n",
    "plot_speeds(speeds_jaccards)"
   ]
  },
  {
   "cell_type": "markdown",
   "metadata": {},
   "source": [
    "As it can be noticed, also here the speeds gains offered with numba are the best. Here, the benchmark is provided by the hybrid python/numpy function (it is partially vectorized), still numba provides 20 time speed-up, when it runs without code parallelization, and up to 60 times faster runtime - when it is run with \"experimental\" parallelization option **@njit(parallel=True)**.  \n",
    "Such option is still experimental and some problems exists when it is used. In my case the code throws error when executed for the firs time, but when it is executed for the second time it already works fine.  \n",
    "\n",
    "Moreover, when function with **@njit(parallel=True)** and for loop uses regular \"range\" iterator then it works surprisingly slow (could be even slower than pure python code). \n",
    "In order to get advantage of the \"for loop\" parallelization \"range\" function should be replaced with \"prange\" (parallel range, numba function). But then on the first run code crashes. Then the second execution works fine, but the speed is similar to the one without **parallel=True** option. And the funny think is that when the \"prange\" is one more time replaced with \"range\" function, the the speed is 3 times faster as compared to not parallelized numba function. Thus it indicates although parallel numba option could provide even further speed gain, it should be used with care.\n",
    "\n",
    "## Conclusions\n",
    "\n",
    "In all the examples provided above numba decorator provided significant speed gains. It could over 700 times faster than a pure python code, and over 14 times faster than numpy code. Of course, such speed gains should not be expected in all cases and possibly could be specific to the examples presented above. Nevertheless, my motivation was to provide speed gains offered by numba package on some typical and simple to reproduce examples.\n",
    "\n",
    "I would be glad to hear your comments on that package and I am curious what speed gains do you get!"
   ]
  },
  {
   "cell_type": "code",
   "execution_count": null,
   "metadata": {},
   "outputs": [],
   "source": []
  },
  {
   "cell_type": "code",
   "execution_count": null,
   "metadata": {},
   "outputs": [],
   "source": []
  },
  {
   "cell_type": "code",
   "execution_count": null,
   "metadata": {},
   "outputs": [],
   "source": []
  },
  {
   "cell_type": "code",
   "execution_count": null,
   "metadata": {},
   "outputs": [],
   "source": []
  },
  {
   "cell_type": "code",
   "execution_count": null,
   "metadata": {},
   "outputs": [],
   "source": []
  }
 ],
 "metadata": {
  "kernelspec": {
   "display_name": "Python 3",
   "language": "python",
   "name": "python3"
  },
  "language_info": {
   "codemirror_mode": {
    "name": "ipython",
    "version": 3
   },
   "file_extension": ".py",
   "mimetype": "text/x-python",
   "name": "python",
   "nbconvert_exporter": "python",
   "pygments_lexer": "ipython3",
   "version": "3.5.2"
  },
  "varInspector": {
   "cols": {
    "lenName": 16,
    "lenType": 16,
    "lenVar": 40
   },
   "kernels_config": {
    "python": {
     "delete_cmd_postfix": "",
     "delete_cmd_prefix": "del ",
     "library": "var_list.py",
     "varRefreshCmd": "print(var_dic_list())"
    },
    "r": {
     "delete_cmd_postfix": ") ",
     "delete_cmd_prefix": "rm(",
     "library": "var_list.r",
     "varRefreshCmd": "cat(var_dic_list()) "
    }
   },
   "types_to_exclude": [
    "module",
    "function",
    "builtin_function_or_method",
    "instance",
    "_Feature"
   ],
   "window_display": false
  }
 },
 "nbformat": 4,
 "nbformat_minor": 2
}
